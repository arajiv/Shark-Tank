{
 "cells": [
  {
   "cell_type": "markdown",
   "metadata": {},
   "source": [
    "# Shark Tank\n",
    "\n",
    "_Shark Tank_ is a reality TV show. Contestants present their idea for a company to a panel of investors (a.k.a. \"sharks\"), who then decide whether or not to invest in that company.  The investors give a certain amount of money in exchange for a percentage stake in the company (\"equity\"). If you are not familiar with the show, you may want to watch part of an episode [here](http://abc.go.com/shows/shark-tank) to get a sense of how it works.\n",
    "\n",
    "The data that you will examine in this lab contains data about all contestants from the first 6 seasons of the show, including:\n",
    "- the name and industry of the proposed company\n",
    "- whether or not it was funded (i.e., the \"Deal\" column)\n",
    "- which sharks chose to invest in the venture (N.B. There are 7 regular sharks, not including \"Guest\". Each shark has a column in the data set, labeled by their last name.)\n",
    "- if funded, the amount of money the sharks put in and the percentage equity they got in return\n",
    "\n",
    "To earn full credit on this lab, you should:\n",
    "- use built-in `pandas` aggregation functions (like `.sum()` and `.max()`) instead of writing for-loops\n",
    "- use the split-apply-combine pattern wherever possible\n",
    "\n",
    "Of course, if you can't think of a vectorized solution, a `for` loop is still better than no solution at all!"
   ]
  },
  {
   "cell_type": "code",
   "execution_count": 1,
   "metadata": {
    "collapsed": true
   },
   "outputs": [],
   "source": [
    "%matplotlib inline\n",
    "import pandas as pd"
   ]
  },
  {
   "cell_type": "markdown",
   "metadata": {},
   "source": [
    "## Question 0. Getting and Cleaning the Data"
   ]
  },
  {
   "cell_type": "markdown",
   "metadata": {},
   "source": [
    "The data is stored in the CSV file `/data/sharktank.csv`. Read in the data into a Pandas `DataFrame`."
   ]
  },
  {
   "cell_type": "code",
   "execution_count": 2,
   "metadata": {
    "collapsed": true
   },
   "outputs": [],
   "source": [
    "sharks_df = pd.read_csv(\"/data301/data/sharktank.csv\")"
   ]
  },
  {
   "cell_type": "markdown",
   "metadata": {},
   "source": [
    "There is one column for each of the sharks. A 1 indicates that they chose to invest in that company, while a missing value indicates that they did not choose to invest in that company. Notice that these missing values show up as NaNs when we read in the data. Fill in these missing values with zeros. Other columns may also contain NaNs; be careful not to fill those columns with zeros, or you may end up with strange results down the line."
   ]
  },
  {
   "cell_type": "code",
   "execution_count": 3,
   "metadata": {
    "collapsed": false
   },
   "outputs": [
    {
     "data": {
      "text/html": [
       "<div>\n",
       "<table border=\"1\" class=\"dataframe\">\n",
       "  <thead>\n",
       "    <tr style=\"text-align: right;\">\n",
       "      <th></th>\n",
       "      <th>Season</th>\n",
       "      <th>No. in series</th>\n",
       "      <th>Company</th>\n",
       "      <th>Deal</th>\n",
       "      <th>Industry</th>\n",
       "      <th>Entrepreneur Gender</th>\n",
       "      <th>Amount</th>\n",
       "      <th>Equity</th>\n",
       "      <th>Corcoran</th>\n",
       "      <th>Cuban</th>\n",
       "      <th>Greiner</th>\n",
       "      <th>Herjavec</th>\n",
       "      <th>John</th>\n",
       "      <th>O'Leary</th>\n",
       "      <th>Harrington</th>\n",
       "      <th>Guest</th>\n",
       "      <th>Details / Notes</th>\n",
       "    </tr>\n",
       "  </thead>\n",
       "  <tbody>\n",
       "    <tr>\n",
       "      <th>0</th>\n",
       "      <td>1.0</td>\n",
       "      <td>1.0</td>\n",
       "      <td>Ava the Elephant</td>\n",
       "      <td>Yes</td>\n",
       "      <td>Healthcare</td>\n",
       "      <td>Female</td>\n",
       "      <td>$50,000</td>\n",
       "      <td>55%</td>\n",
       "      <td>1.0</td>\n",
       "      <td>0.0</td>\n",
       "      <td>0.0</td>\n",
       "      <td>0.0</td>\n",
       "      <td>0.0</td>\n",
       "      <td>0.0</td>\n",
       "      <td>0.0</td>\n",
       "      <td>NaN</td>\n",
       "      <td>NaN</td>\n",
       "    </tr>\n",
       "    <tr>\n",
       "      <th>1</th>\n",
       "      <td>1.0</td>\n",
       "      <td>1.0</td>\n",
       "      <td>Mr. Tod's Pie Factory</td>\n",
       "      <td>Yes</td>\n",
       "      <td>Food and Beverage</td>\n",
       "      <td>Male</td>\n",
       "      <td>$460,000</td>\n",
       "      <td>50%</td>\n",
       "      <td>1.0</td>\n",
       "      <td>0.0</td>\n",
       "      <td>0.0</td>\n",
       "      <td>0.0</td>\n",
       "      <td>1.0</td>\n",
       "      <td>0.0</td>\n",
       "      <td>0.0</td>\n",
       "      <td>NaN</td>\n",
       "      <td>NaN</td>\n",
       "    </tr>\n",
       "    <tr>\n",
       "      <th>2</th>\n",
       "      <td>1.0</td>\n",
       "      <td>1.0</td>\n",
       "      <td>Wispots</td>\n",
       "      <td>No</td>\n",
       "      <td>Business Services</td>\n",
       "      <td>Male</td>\n",
       "      <td>NaN</td>\n",
       "      <td>NaN</td>\n",
       "      <td>0.0</td>\n",
       "      <td>0.0</td>\n",
       "      <td>0.0</td>\n",
       "      <td>0.0</td>\n",
       "      <td>0.0</td>\n",
       "      <td>0.0</td>\n",
       "      <td>0.0</td>\n",
       "      <td>NaN</td>\n",
       "      <td>NaN</td>\n",
       "    </tr>\n",
       "    <tr>\n",
       "      <th>3</th>\n",
       "      <td>1.0</td>\n",
       "      <td>1.0</td>\n",
       "      <td>College Foxes Packing Boxes</td>\n",
       "      <td>No</td>\n",
       "      <td>Lifestyle / Home</td>\n",
       "      <td>Male</td>\n",
       "      <td>NaN</td>\n",
       "      <td>NaN</td>\n",
       "      <td>0.0</td>\n",
       "      <td>0.0</td>\n",
       "      <td>0.0</td>\n",
       "      <td>0.0</td>\n",
       "      <td>0.0</td>\n",
       "      <td>0.0</td>\n",
       "      <td>0.0</td>\n",
       "      <td>NaN</td>\n",
       "      <td>NaN</td>\n",
       "    </tr>\n",
       "    <tr>\n",
       "      <th>4</th>\n",
       "      <td>1.0</td>\n",
       "      <td>1.0</td>\n",
       "      <td>Ionic Ear</td>\n",
       "      <td>No</td>\n",
       "      <td>Uncertain / Other</td>\n",
       "      <td>Male</td>\n",
       "      <td>NaN</td>\n",
       "      <td>NaN</td>\n",
       "      <td>0.0</td>\n",
       "      <td>0.0</td>\n",
       "      <td>0.0</td>\n",
       "      <td>0.0</td>\n",
       "      <td>0.0</td>\n",
       "      <td>0.0</td>\n",
       "      <td>0.0</td>\n",
       "      <td>NaN</td>\n",
       "      <td>NaN</td>\n",
       "    </tr>\n",
       "  </tbody>\n",
       "</table>\n",
       "</div>"
      ],
      "text/plain": [
       "   Season  No. in series                      Company Deal           Industry  \\\n",
       "0     1.0            1.0             Ava the Elephant  Yes         Healthcare   \n",
       "1     1.0            1.0        Mr. Tod's Pie Factory  Yes  Food and Beverage   \n",
       "2     1.0            1.0                      Wispots   No  Business Services   \n",
       "3     1.0            1.0  College Foxes Packing Boxes   No   Lifestyle / Home   \n",
       "4     1.0            1.0                    Ionic Ear   No  Uncertain / Other   \n",
       "\n",
       "  Entrepreneur Gender    Amount Equity  Corcoran  Cuban  Greiner  Herjavec  \\\n",
       "0              Female   $50,000    55%       1.0    0.0      0.0       0.0   \n",
       "1                Male  $460,000    50%       1.0    0.0      0.0       0.0   \n",
       "2                Male       NaN    NaN       0.0    0.0      0.0       0.0   \n",
       "3                Male       NaN    NaN       0.0    0.0      0.0       0.0   \n",
       "4                Male       NaN    NaN       0.0    0.0      0.0       0.0   \n",
       "\n",
       "   John  O'Leary  Harrington  Guest Details / Notes  \n",
       "0   0.0      0.0         0.0    NaN             NaN  \n",
       "1   1.0      0.0         0.0    NaN             NaN  \n",
       "2   0.0      0.0         0.0    NaN             NaN  \n",
       "3   0.0      0.0         0.0    NaN             NaN  \n",
       "4   0.0      0.0         0.0    NaN             NaN  "
      ]
     },
     "execution_count": 3,
     "metadata": {},
     "output_type": "execute_result"
    }
   ],
   "source": [
    "just_sharks = [\"Corcoran\", \"Cuban\", \"Greiner\", \"Herjavec\", \"John\", \"O'Leary\", \"Harrington\"]\n",
    "sharks_df[just_sharks] = sharks_df[just_sharks].fillna(0)\n",
    "sharks_df.head()"
   ]
  },
  {
   "cell_type": "markdown",
   "metadata": {},
   "source": [
    "Notice that Amount and Equity are currently being treated as categorical variables (`dtype: object`). Can you figure out why this is? Clean up these columns and cast them to numeric types (i.e., a `dtype` of `int` or `float`) because we'll need to perform mathematical operations on these columns."
   ]
  },
  {
   "cell_type": "code",
   "execution_count": 4,
   "metadata": {
    "collapsed": false
   },
   "outputs": [],
   "source": [
    "sharks_df.Amount = sharks_df[sharks_df.Deal == \"Yes\"].Amount.str.replace(\"$\",\"\").str.replace(\",\",\"\").astype(int)"
   ]
  },
  {
   "cell_type": "code",
   "execution_count": 5,
   "metadata": {},
   "outputs": [],
   "source": [
    "sharks_df.Equity = sharks_df[sharks_df.Deal == \"Yes\"].Equity.str.replace(\"%\",\"\").str.replace(\"n/a\", \"0\").astype(float)"
   ]
  },
  {
   "cell_type": "code",
   "execution_count": 6,
   "metadata": {},
   "outputs": [
    {
     "data": {
      "text/html": [
       "<div>\n",
       "<table border=\"1\" class=\"dataframe\">\n",
       "  <thead>\n",
       "    <tr style=\"text-align: right;\">\n",
       "      <th></th>\n",
       "      <th>Season</th>\n",
       "      <th>No. in series</th>\n",
       "      <th>Company</th>\n",
       "      <th>Deal</th>\n",
       "      <th>Industry</th>\n",
       "      <th>Entrepreneur Gender</th>\n",
       "      <th>Amount</th>\n",
       "      <th>Equity</th>\n",
       "      <th>Corcoran</th>\n",
       "      <th>Cuban</th>\n",
       "      <th>Greiner</th>\n",
       "      <th>Herjavec</th>\n",
       "      <th>John</th>\n",
       "      <th>O'Leary</th>\n",
       "      <th>Harrington</th>\n",
       "      <th>Guest</th>\n",
       "      <th>Details / Notes</th>\n",
       "    </tr>\n",
       "  </thead>\n",
       "  <tbody>\n",
       "    <tr>\n",
       "      <th>0</th>\n",
       "      <td>1.0</td>\n",
       "      <td>1.0</td>\n",
       "      <td>Ava the Elephant</td>\n",
       "      <td>Yes</td>\n",
       "      <td>Healthcare</td>\n",
       "      <td>Female</td>\n",
       "      <td>50000.0</td>\n",
       "      <td>55.0</td>\n",
       "      <td>1.0</td>\n",
       "      <td>0.0</td>\n",
       "      <td>0.0</td>\n",
       "      <td>0.0</td>\n",
       "      <td>0.0</td>\n",
       "      <td>0.0</td>\n",
       "      <td>0.0</td>\n",
       "      <td>NaN</td>\n",
       "      <td>NaN</td>\n",
       "    </tr>\n",
       "    <tr>\n",
       "      <th>1</th>\n",
       "      <td>1.0</td>\n",
       "      <td>1.0</td>\n",
       "      <td>Mr. Tod's Pie Factory</td>\n",
       "      <td>Yes</td>\n",
       "      <td>Food and Beverage</td>\n",
       "      <td>Male</td>\n",
       "      <td>460000.0</td>\n",
       "      <td>50.0</td>\n",
       "      <td>1.0</td>\n",
       "      <td>0.0</td>\n",
       "      <td>0.0</td>\n",
       "      <td>0.0</td>\n",
       "      <td>1.0</td>\n",
       "      <td>0.0</td>\n",
       "      <td>0.0</td>\n",
       "      <td>NaN</td>\n",
       "      <td>NaN</td>\n",
       "    </tr>\n",
       "    <tr>\n",
       "      <th>2</th>\n",
       "      <td>1.0</td>\n",
       "      <td>1.0</td>\n",
       "      <td>Wispots</td>\n",
       "      <td>No</td>\n",
       "      <td>Business Services</td>\n",
       "      <td>Male</td>\n",
       "      <td>NaN</td>\n",
       "      <td>NaN</td>\n",
       "      <td>0.0</td>\n",
       "      <td>0.0</td>\n",
       "      <td>0.0</td>\n",
       "      <td>0.0</td>\n",
       "      <td>0.0</td>\n",
       "      <td>0.0</td>\n",
       "      <td>0.0</td>\n",
       "      <td>NaN</td>\n",
       "      <td>NaN</td>\n",
       "    </tr>\n",
       "    <tr>\n",
       "      <th>3</th>\n",
       "      <td>1.0</td>\n",
       "      <td>1.0</td>\n",
       "      <td>College Foxes Packing Boxes</td>\n",
       "      <td>No</td>\n",
       "      <td>Lifestyle / Home</td>\n",
       "      <td>Male</td>\n",
       "      <td>NaN</td>\n",
       "      <td>NaN</td>\n",
       "      <td>0.0</td>\n",
       "      <td>0.0</td>\n",
       "      <td>0.0</td>\n",
       "      <td>0.0</td>\n",
       "      <td>0.0</td>\n",
       "      <td>0.0</td>\n",
       "      <td>0.0</td>\n",
       "      <td>NaN</td>\n",
       "      <td>NaN</td>\n",
       "    </tr>\n",
       "    <tr>\n",
       "      <th>4</th>\n",
       "      <td>1.0</td>\n",
       "      <td>1.0</td>\n",
       "      <td>Ionic Ear</td>\n",
       "      <td>No</td>\n",
       "      <td>Uncertain / Other</td>\n",
       "      <td>Male</td>\n",
       "      <td>NaN</td>\n",
       "      <td>NaN</td>\n",
       "      <td>0.0</td>\n",
       "      <td>0.0</td>\n",
       "      <td>0.0</td>\n",
       "      <td>0.0</td>\n",
       "      <td>0.0</td>\n",
       "      <td>0.0</td>\n",
       "      <td>0.0</td>\n",
       "      <td>NaN</td>\n",
       "      <td>NaN</td>\n",
       "    </tr>\n",
       "  </tbody>\n",
       "</table>\n",
       "</div>"
      ],
      "text/plain": [
       "   Season  No. in series                      Company Deal           Industry  \\\n",
       "0     1.0            1.0             Ava the Elephant  Yes         Healthcare   \n",
       "1     1.0            1.0        Mr. Tod's Pie Factory  Yes  Food and Beverage   \n",
       "2     1.0            1.0                      Wispots   No  Business Services   \n",
       "3     1.0            1.0  College Foxes Packing Boxes   No   Lifestyle / Home   \n",
       "4     1.0            1.0                    Ionic Ear   No  Uncertain / Other   \n",
       "\n",
       "  Entrepreneur Gender    Amount  Equity  Corcoran  Cuban  Greiner  Herjavec  \\\n",
       "0              Female   50000.0    55.0       1.0    0.0      0.0       0.0   \n",
       "1                Male  460000.0    50.0       1.0    0.0      0.0       0.0   \n",
       "2                Male       NaN     NaN       0.0    0.0      0.0       0.0   \n",
       "3                Male       NaN     NaN       0.0    0.0      0.0       0.0   \n",
       "4                Male       NaN     NaN       0.0    0.0      0.0       0.0   \n",
       "\n",
       "   John  O'Leary  Harrington  Guest Details / Notes  \n",
       "0   0.0      0.0         0.0    NaN             NaN  \n",
       "1   1.0      0.0         0.0    NaN             NaN  \n",
       "2   0.0      0.0         0.0    NaN             NaN  \n",
       "3   0.0      0.0         0.0    NaN             NaN  \n",
       "4   0.0      0.0         0.0    NaN             NaN  "
      ]
     },
     "execution_count": 6,
     "metadata": {},
     "output_type": "execute_result"
    }
   ],
   "source": [
    "sharks_df.head()"
   ]
  },
  {
   "cell_type": "markdown",
   "metadata": {},
   "source": [
    "## Question 1. Which Company was Worth the Most?"
   ]
  },
  {
   "cell_type": "markdown",
   "metadata": {},
   "source": [
    "The valuation of a company is how much it is worth. If someone invests \\$10,000 for a 40% equity stake in the company, then this means the company must be valued at \\$25,000, since 40% of \\$25,000 is \\$10,000.\n",
    "\n",
    "Calculate the valuation of each company that was funded. Which company was most valuable? Is it the same as the company that received the largest total investment from the sharks?"
   ]
  },
  {
   "cell_type": "code",
   "execution_count": 7,
   "metadata": {
    "collapsed": false
   },
   "outputs": [
    {
     "data": {
      "text/html": [
       "<div>\n",
       "<table border=\"1\" class=\"dataframe\">\n",
       "  <thead>\n",
       "    <tr style=\"text-align: right;\">\n",
       "      <th></th>\n",
       "      <th>Season</th>\n",
       "      <th>No. in series</th>\n",
       "      <th>Company</th>\n",
       "      <th>Deal</th>\n",
       "      <th>Industry</th>\n",
       "      <th>Entrepreneur Gender</th>\n",
       "      <th>Amount</th>\n",
       "      <th>Equity</th>\n",
       "      <th>Corcoran</th>\n",
       "      <th>Cuban</th>\n",
       "      <th>Greiner</th>\n",
       "      <th>Herjavec</th>\n",
       "      <th>John</th>\n",
       "      <th>O'Leary</th>\n",
       "      <th>Harrington</th>\n",
       "      <th>Guest</th>\n",
       "      <th>Details / Notes</th>\n",
       "      <th>Valuation</th>\n",
       "    </tr>\n",
       "  </thead>\n",
       "  <tbody>\n",
       "    <tr>\n",
       "      <th>421</th>\n",
       "      <td>6.0</td>\n",
       "      <td>11.0</td>\n",
       "      <td>Zipz</td>\n",
       "      <td>Yes</td>\n",
       "      <td>Food and Beverage</td>\n",
       "      <td>Male</td>\n",
       "      <td>2500000.0</td>\n",
       "      <td>10.0</td>\n",
       "      <td>0.0</td>\n",
       "      <td>0.0</td>\n",
       "      <td>0.0</td>\n",
       "      <td>0.0</td>\n",
       "      <td>0.0</td>\n",
       "      <td>1.0</td>\n",
       "      <td>0.0</td>\n",
       "      <td>NaN</td>\n",
       "      <td>with an option for another $2.5 Million for an...</td>\n",
       "      <td>25000000.0</td>\n",
       "    </tr>\n",
       "  </tbody>\n",
       "</table>\n",
       "</div>"
      ],
      "text/plain": [
       "     Season  No. in series Company Deal           Industry  \\\n",
       "421     6.0           11.0    Zipz  Yes  Food and Beverage   \n",
       "\n",
       "    Entrepreneur Gender     Amount  Equity  Corcoran  Cuban  Greiner  \\\n",
       "421                Male  2500000.0    10.0       0.0    0.0      0.0   \n",
       "\n",
       "     Herjavec  John  O'Leary  Harrington  Guest  \\\n",
       "421       0.0   0.0      1.0         0.0    NaN   \n",
       "\n",
       "                                       Details / Notes   Valuation  \n",
       "421  with an option for another $2.5 Million for an...  25000000.0  "
      ]
     },
     "execution_count": 7,
     "metadata": {},
     "output_type": "execute_result"
    }
   ],
   "source": [
    "sharks_df[\"Valuation\"] = sharks_df[sharks_df.Deal == \"Yes\"].Amount / (sharks_df[sharks_df.Deal == \"Yes\"].Equity / 100)\n",
    "max_val = sharks_df[(sharks_df.Deal == \"Yes\") & (sharks_df.Equity != 0)].Valuation.max()\n",
    "sharks_df[sharks_df.Valuation == max_val]"
   ]
  },
  {
   "cell_type": "code",
   "execution_count": 8,
   "metadata": {},
   "outputs": [
    {
     "data": {
      "text/html": [
       "<div>\n",
       "<table border=\"1\" class=\"dataframe\">\n",
       "  <thead>\n",
       "    <tr style=\"text-align: right;\">\n",
       "      <th></th>\n",
       "      <th>Season</th>\n",
       "      <th>No. in series</th>\n",
       "      <th>Company</th>\n",
       "      <th>Deal</th>\n",
       "      <th>Industry</th>\n",
       "      <th>Entrepreneur Gender</th>\n",
       "      <th>Amount</th>\n",
       "      <th>Equity</th>\n",
       "      <th>Corcoran</th>\n",
       "      <th>Cuban</th>\n",
       "      <th>Greiner</th>\n",
       "      <th>Herjavec</th>\n",
       "      <th>John</th>\n",
       "      <th>O'Leary</th>\n",
       "      <th>Harrington</th>\n",
       "      <th>Guest</th>\n",
       "      <th>Details / Notes</th>\n",
       "      <th>Valuation</th>\n",
       "    </tr>\n",
       "  </thead>\n",
       "  <tbody>\n",
       "    <tr>\n",
       "      <th>483</th>\n",
       "      <td>6.0</td>\n",
       "      <td>27.0</td>\n",
       "      <td>AirCar</td>\n",
       "      <td>Yes</td>\n",
       "      <td>Green/CleanTech</td>\n",
       "      <td>Male</td>\n",
       "      <td>5000000.0</td>\n",
       "      <td>50.0</td>\n",
       "      <td>0.0</td>\n",
       "      <td>0.0</td>\n",
       "      <td>0.0</td>\n",
       "      <td>1.0</td>\n",
       "      <td>0.0</td>\n",
       "      <td>0.0</td>\n",
       "      <td>0.0</td>\n",
       "      <td>NaN</td>\n",
       "      <td>Contingent on getting deal to bring to contine...</td>\n",
       "      <td>10000000.0</td>\n",
       "    </tr>\n",
       "  </tbody>\n",
       "</table>\n",
       "</div>"
      ],
      "text/plain": [
       "     Season  No. in series Company Deal         Industry Entrepreneur Gender  \\\n",
       "483     6.0           27.0  AirCar  Yes  Green/CleanTech                Male   \n",
       "\n",
       "        Amount  Equity  Corcoran  Cuban  Greiner  Herjavec  John  O'Leary  \\\n",
       "483  5000000.0    50.0       0.0    0.0      0.0       1.0   0.0      0.0   \n",
       "\n",
       "     Harrington  Guest                                    Details / Notes  \\\n",
       "483         0.0    NaN  Contingent on getting deal to bring to contine...   \n",
       "\n",
       "      Valuation  \n",
       "483  10000000.0  "
      ]
     },
     "execution_count": 8,
     "metadata": {},
     "output_type": "execute_result"
    }
   ],
   "source": [
    "max_amt = sharks_df[sharks_df.Deal == \"Yes\"].Amount.max()\n",
    "sharks_df[sharks_df.Amount == max_amt]"
   ]
  },
  {
   "cell_type": "markdown",
   "metadata": {},
   "source": [
    "The \"Zipz\" company was the most valuable, valued at 25 million dollars. O'Leary invested 2.5 million dollars at a 10% equity. However, this isn't the most that was invested by a shark: the \"AirCar\" company received 5 million dollars, but at a 50% equity, only valued at 10 million dollars. "
   ]
  },
  {
   "cell_type": "markdown",
   "metadata": {},
   "source": [
    "## Question 2. Which Shark Invested the Most?"
   ]
  },
  {
   "cell_type": "markdown",
   "metadata": {},
   "source": [
    "Calculate the total amount of money that each shark invested over the 6 seasons. Which shark invested the most total money over the 6 seasons?\n",
    "\n",
    "_Hint:_ If $n$ sharks funded a given venture, then the amount that each shark invested is the total amount divided by $n$."
   ]
  },
  {
   "cell_type": "code",
   "execution_count": 9,
   "metadata": {
    "collapsed": false
   },
   "outputs": [
    {
     "data": {
      "text/plain": [
       "Corcoran       4912500.0\n",
       "Cuban         17817500.0\n",
       "Greiner        8170000.0\n",
       "Herjavec      16297500.0\n",
       "John           8154000.0\n",
       "O'Leary        7952500.0\n",
       "Harrington      800000.0\n",
       "Guest           400000.0\n",
       "dtype: float64"
      ]
     },
     "execution_count": 9,
     "metadata": {},
     "output_type": "execute_result"
    }
   ],
   "source": [
    "sums = sharks_df.loc[:, \"Corcoran\":\"Guest\"].sum(axis=1)\n",
    "each_amounts = sharks_df.Amount.divide(sums)\n",
    "sharks_df.loc[:, \"Corcoran\":\"Guest\"].multiply(each_amounts, axis=0).sum()"
   ]
  },
  {
   "cell_type": "markdown",
   "metadata": {},
   "source": [
    "According to the calculations, Cuban invested the most money over the 6 seasons at a total of 17,817,500 dollars "
   ]
  },
  {
   "cell_type": "markdown",
   "metadata": {},
   "source": [
    "## Question 3. Do the Sharks Prefer Certain Industries?\n",
    "\n",
    "Calculate the funding rate (the proportion of companies that were funded) for each industry. Make a visualization showing this information."
   ]
  },
  {
   "cell_type": "code",
   "execution_count": 10,
   "metadata": {
    "collapsed": false
   },
   "outputs": [],
   "source": [
    "industry_funded = sharks_df[sharks_df.Deal == \"Yes\"].groupby(\"Industry\").Deal.count() / sharks_df.groupby(\"Industry\").Deal.count()"
   ]
  },
  {
   "cell_type": "code",
   "execution_count": 11,
   "metadata": {},
   "outputs": [
    {
     "data": {
      "text/plain": [
       "<matplotlib.axes._subplots.AxesSubplot at 0x7f23d1a3e710>"
      ]
     },
     "execution_count": 11,
     "metadata": {},
     "output_type": "execute_result"
    },
    {
     "data": {
      "image/png": "[encoded data removed]",
      "text/plain": [
       "<matplotlib.figure.Figure at 0x7f23d17d7e80>"
      ]
     },
     "metadata": {},
     "output_type": "display_data"
    }
   ],
   "source": [
    "industry_funded.plot.bar()"
   ]
  },
  {
   "cell_type": "markdown",
   "metadata": {},
   "source": [
    "Looking at the plot, it looks like the Fitness/Sports industry has the highest funding rate, and the Business Services industry has the lowest funding rate. "
   ]
  },
  {
   "cell_type": "markdown",
   "metadata": {},
   "source": [
    "## Preparing for Submission\n",
    "\n",
    "Once you are finished, follow these steps:\n",
    "\n",
    "1. Restart the kernel and re-run this notebook from beginning to end by going to `Kernel > Restart Kernel and Run All Cells`.\n",
    "2. If this process stops halfway through, that means there was an error. Correct the error and repeat Step 1 until the notebook runs from beginning to end.\n",
    "3. Double check that there is a number next to each code cell and that these numbers are in order.\n",
    "4. Go to `File > Save Notebook`.\n",
    "\n",
    "When you have finished both Lab A and Lab B, please read the `Submission Instructions.ipynb` for instructions on how to submit the entire lab."
   ]
  }
 ],
 "metadata": {
  "kernelspec": {
   "display_name": "Python 3",
   "language": "python",
   "name": "python3"
  },
  "language_info": {
   "codemirror_mode": {
    "name": "ipython",
    "version": 3
   },
   "file_extension": ".py",
   "mimetype": "text/x-python",
   "name": "python",
   "nbconvert_exporter": "python",
   "pygments_lexer": "ipython3",
   "version": "3.6.3"
  }
 },
 "nbformat": 4,
 "nbformat_minor": 2
}
