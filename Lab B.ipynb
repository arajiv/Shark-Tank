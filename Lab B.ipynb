{
 "cells": [
  {
   "cell_type": "markdown",
   "metadata": {},
   "source": [
    "# Answer Your Own Question!\n",
    "\n",
    "While it's obviously important to be able to answer a question that is posed to you, a big part of data science is knowing what questions to ask. To give you practice doing this, the last part of this lab is deliberately open-ended. \n",
    "\n",
    "**Task:** Come up with your own question about the Shark Tank data set and answer it. \n",
    "\n",
    "You will need to add Markdown and Code cells below to (1) state the question you are trying to answer, (2) write code to answer the question, and (3) explain your findings. You will be graded on:\n",
    "- how interesting your question is\n",
    "- the correctness of your analysis\n",
    "- the clarity of the presentation"
   ]
  },
  {
   "cell_type": "markdown",
   "metadata": {},
   "source": [
    "** (1) What proportion of male and female entrepreneurs received a deal? Is there anything interesting about which gender received more deals? **"
   ]
  },
  {
   "cell_type": "code",
   "execution_count": 1,
   "metadata": {},
   "outputs": [
    {
     "data": {
      "text/plain": [
       "<matplotlib.axes._subplots.AxesSubplot at 0x7ff51b0614a8>"
      ]
     },
     "execution_count": 1,
     "metadata": {},
     "output_type": "execute_result"
    },
    {
     "data": {
      "image/png": "[encoded data removed]",
      "text/plain": [
       "<matplotlib.figure.Figure at 0x7ff51b2d5b38>"
      ]
     },
     "metadata": {},
     "output_type": "display_data"
    }
   ],
   "source": [
    "%matplotlib inline\n",
    "import pandas as pd\n",
    "sharks_df = pd.read_csv(\"/data301/data/sharktank.csv\")\n",
    "\n",
    "counts = sharks_df[\"Entrepreneur Gender\"].value_counts()\n",
    "gender_proportions = sharks_df[sharks_df.Deal == \"Yes\"][\"Entrepreneur Gender\"].value_counts() / counts\n",
    "gender_proportions.plot.bar()"
   ]
  },
  {
   "cell_type": "markdown",
   "metadata": {},
   "source": [
    "Looking at the proportions, it seems that females received a higher proportion of deals, the mixed teams, and then males. It might be because there are more males who pitch to the sharks, which could result in a lower success rate. "
   ]
  },
  {
   "cell_type": "markdown",
   "metadata": {},
   "source": [
    "## Preparing for Submission\n",
    "\n",
    "Once you are finished, follow these steps:\n",
    "\n",
    "1. Restart the kernel and re-run this notebook from beginning to end by going to `Kernel > Restart Kernel and Run All Cells`.\n",
    "2. If this process stops halfway through, that means there was an error. Correct the error and repeat Step 1 until the notebook runs from beginning to end.\n",
    "3. Double check that there is a number next to each code cell and that these numbers are in order.\n",
    "4. Go to `File > Save Notebook`.\n",
    "\n",
    "When you have finished both Lab A and Lab B, please read the `Submission Instructions.ipynb` for instructions on how to submit the entire lab."
   ]
  }
 ],
 "metadata": {
  "kernelspec": {
   "display_name": "Python 3",
   "language": "python",
   "name": "python3"
  },
  "language_info": {
   "codemirror_mode": {
    "name": "ipython",
    "version": 3
   },
   "file_extension": ".py",
   "mimetype": "text/x-python",
   "name": "python",
   "nbconvert_exporter": "python",
   "pygments_lexer": "ipython3",
   "version": "3.6.3"
  }
 },
 "nbformat": 4,
 "nbformat_minor": 2
}
